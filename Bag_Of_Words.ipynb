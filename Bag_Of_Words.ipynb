{
 "cells": [
  {
   "cell_type": "code",
   "execution_count": 1,
   "metadata": {
    "collapsed": true
   },
   "outputs": [],
   "source": [
    "import pandas as pd"
   ]
  },
  {
   "cell_type": "code",
   "execution_count": 2,
   "metadata": {
    "collapsed": true
   },
   "outputs": [],
   "source": [
    "data=pd.read_csv('labeledTrainData.tsv',header=0,delimiter='\\t',quoting=3)"
   ]
  },
  {
   "cell_type": "code",
   "execution_count": 3,
   "metadata": {},
   "outputs": [
    {
     "data": {
      "text/plain": [
       "(25000, 3)"
      ]
     },
     "execution_count": 3,
     "metadata": {},
     "output_type": "execute_result"
    }
   ],
   "source": [
    "data.shape"
   ]
  },
  {
   "cell_type": "code",
   "execution_count": 4,
   "metadata": {},
   "outputs": [
    {
     "data": {
      "text/plain": [
       "array(['id', 'sentiment', 'review'], dtype=object)"
      ]
     },
     "execution_count": 4,
     "metadata": {},
     "output_type": "execute_result"
    }
   ],
   "source": [
    "data.columns.values"
   ]
  },
  {
   "cell_type": "code",
   "execution_count": 5,
   "metadata": {},
   "outputs": [
    {
     "name": "stdout",
     "output_type": "stream",
     "text": [
      "\"With all this stuff going down at the moment with MJ i've started listening to his music, watching the odd documentary here and there, watched The Wiz and watched Moonwalker again. Maybe i just want to get a certain insight into this guy who i thought was really cool in the eighties just to maybe make up my mind whether he is guilty or innocent. Moonwalker is part biography, part feature film which i remember going to see at the cinema when it was originally released. Some of it has subtle messages about MJ's feeling towards the press and also the obvious message of drugs are bad m'kay.<br /><br />Visually impressive but of course this is all about Michael Jackson so unless you remotely like MJ in anyway then you are going to hate this and find it boring. Some may call MJ an egotist for consenting to the making of this movie BUT MJ and most of his fans would say that he made it for the fans which if true is really nice of him.<br /><br />The actual feature film bit when it finally starts is only on for 20 minutes or so excluding the Smooth Criminal sequence and Joe Pesci is convincing as a psychopathic all powerful drug lord. Why he wants MJ dead so bad is beyond me. Because MJ overheard his plans? Nah, Joe Pesci's character ranted that he wanted people to know it is he who is supplying drugs etc so i dunno, maybe he just hates MJ's music.<br /><br />Lots of cool things in this like MJ turning into a car and a robot and the whole Speed Demon sequence. Also, the director must have had the patience of a saint when it came to filming the kiddy Bad sequence as usually directors hate working with one kid let alone a whole bunch of them performing a complex dance scene.<br /><br />Bottom line, this movie is for people who like MJ on one level or another (which i think is most people). If not, then stay away. It does try and give off a wholesome message and ironically MJ's bestest buddy in this movie is a girl! Michael Jackson is truly one of the most talented people ever to grace this planet but is he guilty? Well, with all the attention i've gave this subject....hmmm well i don't know because people can be different behind closed doors, i know this for a fact. He is either an extremely nice but stupid guy or one of the most sickest liars. I hope he is not the latter.\"\n"
     ]
    }
   ],
   "source": [
    "print(data['review'][0])"
   ]
  },
  {
   "cell_type": "markdown",
   "metadata": {},
   "source": [
    "# Data Processing and Text Processing"
   ]
  },
  {
   "cell_type": "markdown",
   "metadata": {},
   "source": [
    "### Remove Html markup:The BeautifulSoup pckage"
   ]
  },
  {
   "cell_type": "code",
   "execution_count": 6,
   "metadata": {
    "collapsed": true
   },
   "outputs": [],
   "source": [
    "from bs4 import BeautifulSoup"
   ]
  },
  {
   "cell_type": "code",
   "execution_count": 7,
   "metadata": {},
   "outputs": [
    {
     "name": "stdout",
     "output_type": "stream",
     "text": [
      "\"With all this stuff going down at the moment with MJ i've started listening to his music, watching the odd documentary here and there, watched The Wiz and watched Moonwalker again. Maybe i just want to get a certain insight into this guy who i thought was really cool in the eighties just to maybe make up my mind whether he is guilty or innocent. Moonwalker is part biography, part feature film which i remember going to see at the cinema when it was originally released. Some of it has subtle messages about MJ's feeling towards the press and also the obvious message of drugs are bad m'kay.Visually impressive but of course this is all about Michael Jackson so unless you remotely like MJ in anyway then you are going to hate this and find it boring. Some may call MJ an egotist for consenting to the making of this movie BUT MJ and most of his fans would say that he made it for the fans which if true is really nice of him.The actual feature film bit when it finally starts is only on for 20 minutes or so excluding the Smooth Criminal sequence and Joe Pesci is convincing as a psychopathic all powerful drug lord. Why he wants MJ dead so bad is beyond me. Because MJ overheard his plans? Nah, Joe Pesci's character ranted that he wanted people to know it is he who is supplying drugs etc so i dunno, maybe he just hates MJ's music.Lots of cool things in this like MJ turning into a car and a robot and the whole Speed Demon sequence. Also, the director must have had the patience of a saint when it came to filming the kiddy Bad sequence as usually directors hate working with one kid let alone a whole bunch of them performing a complex dance scene.Bottom line, this movie is for people who like MJ on one level or another (which i think is most people). If not, then stay away. It does try and give off a wholesome message and ironically MJ's bestest buddy in this movie is a girl! Michael Jackson is truly one of the most talented people ever to grace this planet but is he guilty? Well, with all the attention i've gave this subject....hmmm well i don't know because people can be different behind closed doors, i know this for a fact. He is either an extremely nice but stupid guy or one of the most sickest liars. I hope he is not the latter.\"\n"
     ]
    },
    {
     "name": "stderr",
     "output_type": "stream",
     "text": [
      "/home/abhi/anaconda2/lib/python2.7/site-packages/bs4/__init__.py:181: UserWarning: No parser was explicitly specified, so I'm using the best available HTML parser for this system (\"lxml\"). This usually isn't a problem, but if you run this code on another system, or in a different virtual environment, it may use a different parser and behave differently.\n",
      "\n",
      "The code that caused this warning is on line 174 of the file /home/abhi/anaconda2/lib/python2.7/runpy.py. To get rid of this warning, change code that looks like this:\n",
      "\n",
      " BeautifulSoup(YOUR_MARKUP})\n",
      "\n",
      "to this:\n",
      "\n",
      " BeautifulSoup(YOUR_MARKUP, \"lxml\")\n",
      "\n",
      "  markup_type=markup_type))\n"
     ]
    }
   ],
   "source": [
    "example1=BeautifulSoup(data['review'][0])\n",
    "print example1.get_text()"
   ]
  },
  {
   "cell_type": "markdown",
   "metadata": {},
   "source": [
    "## Remove punctuations using regular expression"
   ]
  },
  {
   "cell_type": "code",
   "execution_count": 8,
   "metadata": {},
   "outputs": [
    {
     "name": "stdout",
     "output_type": "stream",
     "text": [
      " With all this stuff going down at the moment with MJ i ve started listening to his music  watching the odd documentary here and there  watched The Wiz and watched Moonwalker again  Maybe i just want to get a certain insight into this guy who i thought was really cool in the eighties just to maybe make up my mind whether he is guilty or innocent  Moonwalker is part biography  part feature film which i remember going to see at the cinema when it was originally released  Some of it has subtle messages about MJ s feeling towards the press and also the obvious message of drugs are bad m kay Visually impressive but of course this is all about Michael Jackson so unless you remotely like MJ in anyway then you are going to hate this and find it boring  Some may call MJ an egotist for consenting to the making of this movie BUT MJ and most of his fans would say that he made it for the fans which if true is really nice of him The actual feature film bit when it finally starts is only on for    minutes or so excluding the Smooth Criminal sequence and Joe Pesci is convincing as a psychopathic all powerful drug lord  Why he wants MJ dead so bad is beyond me  Because MJ overheard his plans  Nah  Joe Pesci s character ranted that he wanted people to know it is he who is supplying drugs etc so i dunno  maybe he just hates MJ s music Lots of cool things in this like MJ turning into a car and a robot and the whole Speed Demon sequence  Also  the director must have had the patience of a saint when it came to filming the kiddy Bad sequence as usually directors hate working with one kid let alone a whole bunch of them performing a complex dance scene Bottom line  this movie is for people who like MJ on one level or another  which i think is most people   If not  then stay away  It does try and give off a wholesome message and ironically MJ s bestest buddy in this movie is a girl  Michael Jackson is truly one of the most talented people ever to grace this planet but is he guilty  Well  with all the attention i ve gave this subject    hmmm well i don t know because people can be different behind closed doors  i know this for a fact  He is either an extremely nice but stupid guy or one of the most sickest liars  I hope he is not the latter  \n"
     ]
    }
   ],
   "source": [
    "import re\n",
    "\n",
    "letter_only=re.sub('[^a-zA-Z]',' ',example1.get_text())\n",
    "print letter_only"
   ]
  },
  {
   "cell_type": "markdown",
   "metadata": {},
   "source": [
    "## Convert to lower case and split it into words"
   ]
  },
  {
   "cell_type": "code",
   "execution_count": 9,
   "metadata": {},
   "outputs": [
    {
     "name": "stdout",
     "output_type": "stream",
     "text": [
      "[u'with', u'all', u'this', u'stuff', u'going', u'down', u'at', u'the', u'moment', u'with', u'mj', u'i', u've', u'started', u'listening', u'to', u'his', u'music', u'watching', u'the', u'odd', u'documentary', u'here', u'and', u'there', u'watched', u'the', u'wiz', u'and', u'watched', u'moonwalker', u'again', u'maybe', u'i', u'just', u'want', u'to', u'get', u'a', u'certain', u'insight', u'into', u'this', u'guy', u'who', u'i', u'thought', u'was', u'really', u'cool', u'in', u'the', u'eighties', u'just', u'to', u'maybe', u'make', u'up', u'my', u'mind', u'whether', u'he', u'is', u'guilty', u'or', u'innocent', u'moonwalker', u'is', u'part', u'biography', u'part', u'feature', u'film', u'which', u'i', u'remember', u'going', u'to', u'see', u'at', u'the', u'cinema', u'when', u'it', u'was', u'originally', u'released', u'some', u'of', u'it', u'has', u'subtle', u'messages', u'about', u'mj', u's', u'feeling', u'towards', u'the', u'press', u'and', u'also', u'the', u'obvious', u'message', u'of', u'drugs', u'are', u'bad', u'm', u'kay', u'visually', u'impressive', u'but', u'of', u'course', u'this', u'is', u'all', u'about', u'michael', u'jackson', u'so', u'unless', u'you', u'remotely', u'like', u'mj', u'in', u'anyway', u'then', u'you', u'are', u'going', u'to', u'hate', u'this', u'and', u'find', u'it', u'boring', u'some', u'may', u'call', u'mj', u'an', u'egotist', u'for', u'consenting', u'to', u'the', u'making', u'of', u'this', u'movie', u'but', u'mj', u'and', u'most', u'of', u'his', u'fans', u'would', u'say', u'that', u'he', u'made', u'it', u'for', u'the', u'fans', u'which', u'if', u'true', u'is', u'really', u'nice', u'of', u'him', u'the', u'actual', u'feature', u'film', u'bit', u'when', u'it', u'finally', u'starts', u'is', u'only', u'on', u'for', u'minutes', u'or', u'so', u'excluding', u'the', u'smooth', u'criminal', u'sequence', u'and', u'joe', u'pesci', u'is', u'convincing', u'as', u'a', u'psychopathic', u'all', u'powerful', u'drug', u'lord', u'why', u'he', u'wants', u'mj', u'dead', u'so', u'bad', u'is', u'beyond', u'me', u'because', u'mj', u'overheard', u'his', u'plans', u'nah', u'joe', u'pesci', u's', u'character', u'ranted', u'that', u'he', u'wanted', u'people', u'to', u'know', u'it', u'is', u'he', u'who', u'is', u'supplying', u'drugs', u'etc', u'so', u'i', u'dunno', u'maybe', u'he', u'just', u'hates', u'mj', u's', u'music', u'lots', u'of', u'cool', u'things', u'in', u'this', u'like', u'mj', u'turning', u'into', u'a', u'car', u'and', u'a', u'robot', u'and', u'the', u'whole', u'speed', u'demon', u'sequence', u'also', u'the', u'director', u'must', u'have', u'had', u'the', u'patience', u'of', u'a', u'saint', u'when', u'it', u'came', u'to', u'filming', u'the', u'kiddy', u'bad', u'sequence', u'as', u'usually', u'directors', u'hate', u'working', u'with', u'one', u'kid', u'let', u'alone', u'a', u'whole', u'bunch', u'of', u'them', u'performing', u'a', u'complex', u'dance', u'scene', u'bottom', u'line', u'this', u'movie', u'is', u'for', u'people', u'who', u'like', u'mj', u'on', u'one', u'level', u'or', u'another', u'which', u'i', u'think', u'is', u'most', u'people', u'if', u'not', u'then', u'stay', u'away', u'it', u'does', u'try', u'and', u'give', u'off', u'a', u'wholesome', u'message', u'and', u'ironically', u'mj', u's', u'bestest', u'buddy', u'in', u'this', u'movie', u'is', u'a', u'girl', u'michael', u'jackson', u'is', u'truly', u'one', u'of', u'the', u'most', u'talented', u'people', u'ever', u'to', u'grace', u'this', u'planet', u'but', u'is', u'he', u'guilty', u'well', u'with', u'all', u'the', u'attention', u'i', u've', u'gave', u'this', u'subject', u'hmmm', u'well', u'i', u'don', u't', u'know', u'because', u'people', u'can', u'be', u'different', u'behind', u'closed', u'doors', u'i', u'know', u'this', u'for', u'a', u'fact', u'he', u'is', u'either', u'an', u'extremely', u'nice', u'but', u'stupid', u'guy', u'or', u'one', u'of', u'the', u'most', u'sickest', u'liars', u'i', u'hope', u'he', u'is', u'not', u'the', u'latter']\n"
     ]
    }
   ],
   "source": [
    "lower=letter_only.lower()\n",
    "words=lower.split()\n",
    "print words"
   ]
  },
  {
   "cell_type": "markdown",
   "metadata": {},
   "source": [
    "## Lets remove the stopwords"
   ]
  },
  {
   "cell_type": "code",
   "execution_count": 10,
   "metadata": {
    "collapsed": true
   },
   "outputs": [],
   "source": [
    "from nltk.corpus import stopwords"
   ]
  },
  {
   "cell_type": "code",
   "execution_count": 11,
   "metadata": {
    "collapsed": true
   },
   "outputs": [],
   "source": [
    "stop=stopwords.words('english')"
   ]
  },
  {
   "cell_type": "code",
   "execution_count": 12,
   "metadata": {
    "collapsed": true
   },
   "outputs": [],
   "source": [
    "words=[w for w in words if  w not in stop]"
   ]
  },
  {
   "cell_type": "code",
   "execution_count": 13,
   "metadata": {},
   "outputs": [
    {
     "name": "stdout",
     "output_type": "stream",
     "text": [
      "[u'stuff', u'going', u'moment', u'mj', u'started', u'listening', u'music', u'watching', u'odd', u'documentary', u'watched', u'wiz', u'watched', u'moonwalker', u'maybe', u'want', u'get', u'certain', u'insight', u'guy', u'thought', u'really', u'cool', u'eighties', u'maybe', u'make', u'mind', u'whether', u'guilty', u'innocent', u'moonwalker', u'part', u'biography', u'part', u'feature', u'film', u'remember', u'going', u'see', u'cinema', u'originally', u'released', u'subtle', u'messages', u'mj', u'feeling', u'towards', u'press', u'also', u'obvious', u'message', u'drugs', u'bad', u'kay', u'visually', u'impressive', u'course', u'michael', u'jackson', u'unless', u'remotely', u'like', u'mj', u'anyway', u'going', u'hate', u'find', u'boring', u'may', u'call', u'mj', u'egotist', u'consenting', u'making', u'movie', u'mj', u'fans', u'would', u'say', u'made', u'fans', u'true', u'really', u'nice', u'actual', u'feature', u'film', u'bit', u'finally', u'starts', u'minutes', u'excluding', u'smooth', u'criminal', u'sequence', u'joe', u'pesci', u'convincing', u'psychopathic', u'powerful', u'drug', u'lord', u'wants', u'mj', u'dead', u'bad', u'beyond', u'mj', u'overheard', u'plans', u'nah', u'joe', u'pesci', u'character', u'ranted', u'wanted', u'people', u'know', u'supplying', u'drugs', u'etc', u'dunno', u'maybe', u'hates', u'mj', u'music', u'lots', u'cool', u'things', u'like', u'mj', u'turning', u'car', u'robot', u'whole', u'speed', u'demon', u'sequence', u'also', u'director', u'must', u'patience', u'saint', u'came', u'filming', u'kiddy', u'bad', u'sequence', u'usually', u'directors', u'hate', u'working', u'one', u'kid', u'let', u'alone', u'whole', u'bunch', u'performing', u'complex', u'dance', u'scene', u'bottom', u'line', u'movie', u'people', u'like', u'mj', u'one', u'level', u'another', u'think', u'people', u'stay', u'away', u'try', u'give', u'wholesome', u'message', u'ironically', u'mj', u'bestest', u'buddy', u'movie', u'girl', u'michael', u'jackson', u'truly', u'one', u'talented', u'people', u'ever', u'grace', u'planet', u'guilty', u'well', u'attention', u'gave', u'subject', u'hmmm', u'well', u'know', u'people', u'different', u'behind', u'closed', u'doors', u'know', u'fact', u'either', u'extremely', u'nice', u'stupid', u'guy', u'one', u'sickest', u'liars', u'hope', u'latter']\n"
     ]
    }
   ],
   "source": [
    "print words"
   ]
  },
  {
   "cell_type": "markdown",
   "metadata": {},
   "source": [
    "## Lets Join them Together"
   ]
  },
  {
   "cell_type": "code",
   "execution_count": 14,
   "metadata": {
    "collapsed": true
   },
   "outputs": [],
   "source": [
    "def review_to_words(raw_review):\n",
    "    #Remove Html\n",
    "    review=BeautifulSoup(raw_review).get_text()\n",
    "    \n",
    "    #Remove Punctuations\n",
    "    review=re.sub('[^a-zA-Z]',' ',review)\n",
    "    \n",
    "    #Convert to lower case split it into words\n",
    "    review_words=review.lower().split()\n",
    "    \n",
    "    #Remove StopWords\n",
    "    stop=stopwords.words('english')\n",
    "    review_words=[w for w in review_words if w not in stop]\n",
    "    \n",
    "    #Join the words\n",
    "    return(' '.join(review_words))"
   ]
  },
  {
   "cell_type": "code",
   "execution_count": 15,
   "metadata": {},
   "outputs": [
    {
     "data": {
      "text/plain": [
       "u'stuff going moment mj started listening music watching odd documentary watched wiz watched moonwalker maybe want get certain insight guy thought really cool eighties maybe make mind whether guilty innocent moonwalker part biography part feature film remember going see cinema originally released subtle messages mj feeling towards press also obvious message drugs bad kay visually impressive course michael jackson unless remotely like mj anyway going hate find boring may call mj egotist consenting making movie mj fans would say made fans true really nice actual feature film bit finally starts minutes excluding smooth criminal sequence joe pesci convincing psychopathic powerful drug lord wants mj dead bad beyond mj overheard plans nah joe pesci character ranted wanted people know supplying drugs etc dunno maybe hates mj music lots cool things like mj turning car robot whole speed demon sequence also director must patience saint came filming kiddy bad sequence usually directors hate working one kid let alone whole bunch performing complex dance scene bottom line movie people like mj one level another think people stay away try give wholesome message ironically mj bestest buddy movie girl michael jackson truly one talented people ever grace planet guilty well attention gave subject hmmm well know people different behind closed doors know fact either extremely nice stupid guy one sickest liars hope latter'"
      ]
     },
     "execution_count": 15,
     "metadata": {},
     "output_type": "execute_result"
    }
   ],
   "source": [
    "clean_review=review_to_words(data['review'][0])\n",
    "\n",
    "clean_review"
   ]
  },
  {
   "cell_type": "markdown",
   "metadata": {},
   "source": [
    "# Clean all the data"
   ]
  },
  {
   "cell_type": "code",
   "execution_count": 16,
   "metadata": {
    "collapsed": true
   },
   "outputs": [],
   "source": [
    "num_reviews=data['review'].size\n",
    "clean_train_reviews=[]   "
   ]
  },
  {
   "cell_type": "code",
   "execution_count": 17,
   "metadata": {
    "scrolled": true
   },
   "outputs": [
    {
     "name": "stdout",
     "output_type": "stream",
     "text": [
      "Review number 100 of 25000\n",
      "Review number 200 of 25000\n",
      "Review number 300 of 25000\n",
      "Review number 400 of 25000\n",
      "Review number 500 of 25000\n",
      "Review number 600 of 25000\n",
      "Review number 700 of 25000\n",
      "Review number 800 of 25000\n",
      "Review number 900 of 25000\n",
      "Review number 1000 of 25000\n",
      "Review number 1100 of 25000\n",
      "Review number 1200 of 25000\n",
      "Review number 1300 of 25000\n",
      "Review number 1400 of 25000\n",
      "Review number 1500 of 25000\n",
      "Review number 1600 of 25000\n",
      "Review number 1700 of 25000\n",
      "Review number 1800 of 25000\n",
      "Review number 1900 of 25000\n",
      "Review number 2000 of 25000\n",
      "Review number 2100 of 25000\n",
      "Review number 2200 of 25000\n",
      "Review number 2300 of 25000\n",
      "Review number 2400 of 25000\n",
      "Review number 2500 of 25000\n",
      "Review number 2600 of 25000\n",
      "Review number 2700 of 25000\n",
      "Review number 2800 of 25000\n",
      "Review number 2900 of 25000\n",
      "Review number 3000 of 25000\n",
      "Review number 3100 of 25000\n",
      "Review number 3200 of 25000\n",
      "Review number 3300 of 25000\n",
      "Review number 3400 of 25000\n",
      "Review number 3500 of 25000\n",
      "Review number 3600 of 25000\n",
      "Review number 3700 of 25000\n",
      "Review number 3800 of 25000\n",
      "Review number 3900 of 25000\n",
      "Review number 4000 of 25000\n",
      "Review number 4100 of 25000\n",
      "Review number 4200 of 25000\n",
      "Review number 4300 of 25000\n",
      "Review number 4400 of 25000\n",
      "Review number 4500 of 25000\n",
      "Review number 4600 of 25000\n",
      "Review number 4700 of 25000\n",
      "Review number 4800 of 25000\n",
      "Review number 4900 of 25000\n",
      "Review number 5000 of 25000\n",
      "Review number 5100 of 25000\n",
      "Review number 5200 of 25000\n",
      "Review number 5300 of 25000\n",
      "Review number 5400 of 25000\n",
      "Review number 5500 of 25000\n",
      "Review number 5600 of 25000\n",
      "Review number 5700 of 25000\n",
      "Review number 5800 of 25000\n",
      "Review number 5900 of 25000\n",
      "Review number 6000 of 25000\n",
      "Review number 6100 of 25000\n",
      "Review number 6200 of 25000\n",
      "Review number 6300 of 25000\n",
      "Review number 6400 of 25000\n",
      "Review number 6500 of 25000\n",
      "Review number 6600 of 25000\n",
      "Review number 6700 of 25000\n",
      "Review number 6800 of 25000\n",
      "Review number 6900 of 25000\n",
      "Review number 7000 of 25000\n",
      "Review number 7100 of 25000\n",
      "Review number 7200 of 25000\n",
      "Review number 7300 of 25000\n",
      "Review number 7400 of 25000\n",
      "Review number 7500 of 25000\n",
      "Review number 7600 of 25000\n",
      "Review number 7700 of 25000\n",
      "Review number 7800 of 25000\n",
      "Review number 7900 of 25000\n",
      "Review number 8000 of 25000\n",
      "Review number 8100 of 25000\n",
      "Review number 8200 of 25000\n",
      "Review number 8300 of 25000\n",
      "Review number 8400 of 25000\n",
      "Review number 8500 of 25000\n",
      "Review number 8600 of 25000\n",
      "Review number 8700 of 25000\n",
      "Review number 8800 of 25000\n",
      "Review number 8900 of 25000\n",
      "Review number 9000 of 25000\n",
      "Review number 9100 of 25000\n",
      "Review number 9200 of 25000\n",
      "Review number 9300 of 25000\n",
      "Review number 9400 of 25000\n",
      "Review number 9500 of 25000\n",
      "Review number 9600 of 25000\n",
      "Review number 9700 of 25000\n",
      "Review number 9800 of 25000\n",
      "Review number 9900 of 25000\n",
      "Review number 10000 of 25000\n",
      "Review number 10100 of 25000\n",
      "Review number 10200 of 25000\n",
      "Review number 10300 of 25000\n",
      "Review number 10400 of 25000\n",
      "Review number 10500 of 25000\n",
      "Review number 10600 of 25000\n",
      "Review number 10700 of 25000\n",
      "Review number 10800 of 25000\n",
      "Review number 10900 of 25000\n",
      "Review number 11000 of 25000\n",
      "Review number 11100 of 25000\n",
      "Review number 11200 of 25000\n",
      "Review number 11300 of 25000\n",
      "Review number 11400 of 25000\n",
      "Review number 11500 of 25000\n",
      "Review number 11600 of 25000\n",
      "Review number 11700 of 25000\n",
      "Review number 11800 of 25000\n",
      "Review number 11900 of 25000\n",
      "Review number 12000 of 25000\n",
      "Review number 12100 of 25000\n",
      "Review number 12200 of 25000\n",
      "Review number 12300 of 25000\n",
      "Review number 12400 of 25000\n",
      "Review number 12500 of 25000\n",
      "Review number 12600 of 25000\n",
      "Review number 12700 of 25000\n",
      "Review number 12800 of 25000\n",
      "Review number 12900 of 25000\n",
      "Review number 13000 of 25000\n",
      "Review number 13100 of 25000\n",
      "Review number 13200 of 25000\n",
      "Review number 13300 of 25000\n",
      "Review number 13400 of 25000\n",
      "Review number 13500 of 25000\n",
      "Review number 13600 of 25000\n",
      "Review number 13700 of 25000\n",
      "Review number 13800 of 25000\n",
      "Review number 13900 of 25000\n",
      "Review number 14000 of 25000\n",
      "Review number 14100 of 25000\n",
      "Review number 14200 of 25000\n",
      "Review number 14300 of 25000\n",
      "Review number 14400 of 25000\n",
      "Review number 14500 of 25000\n",
      "Review number 14600 of 25000\n",
      "Review number 14700 of 25000\n",
      "Review number 14800 of 25000\n",
      "Review number 14900 of 25000\n",
      "Review number 15000 of 25000\n",
      "Review number 15100 of 25000\n",
      "Review number 15200 of 25000\n",
      "Review number 15300 of 25000\n",
      "Review number 15400 of 25000\n",
      "Review number 15500 of 25000\n",
      "Review number 15600 of 25000\n",
      "Review number 15700 of 25000\n",
      "Review number 15800 of 25000\n",
      "Review number 15900 of 25000\n",
      "Review number 16000 of 25000\n",
      "Review number 16100 of 25000\n",
      "Review number 16200 of 25000\n",
      "Review number 16300 of 25000\n",
      "Review number 16400 of 25000\n",
      "Review number 16500 of 25000\n",
      "Review number 16600 of 25000\n",
      "Review number 16700 of 25000\n",
      "Review number 16800 of 25000\n",
      "Review number 16900 of 25000\n",
      "Review number 17000 of 25000\n",
      "Review number 17100 of 25000\n",
      "Review number 17200 of 25000\n",
      "Review number 17300 of 25000\n",
      "Review number 17400 of 25000\n",
      "Review number 17500 of 25000\n",
      "Review number 17600 of 25000\n",
      "Review number 17700 of 25000\n",
      "Review number 17800 of 25000\n",
      "Review number 17900 of 25000\n",
      "Review number 18000 of 25000\n",
      "Review number 18100 of 25000\n",
      "Review number 18200 of 25000\n",
      "Review number 18300 of 25000\n",
      "Review number 18400 of 25000\n",
      "Review number 18500 of 25000\n",
      "Review number 18600 of 25000\n",
      "Review number 18700 of 25000\n",
      "Review number 18800 of 25000\n",
      "Review number 18900 of 25000\n",
      "Review number 19000 of 25000\n",
      "Review number 19100 of 25000\n",
      "Review number 19200 of 25000\n",
      "Review number 19300 of 25000\n",
      "Review number 19400 of 25000\n",
      "Review number 19500 of 25000\n",
      "Review number 19600 of 25000\n",
      "Review number 19700 of 25000\n",
      "Review number 19800 of 25000\n",
      "Review number 19900 of 25000\n",
      "Review number 20000 of 25000\n",
      "Review number 20100 of 25000\n",
      "Review number 20200 of 25000\n",
      "Review number 20300 of 25000\n",
      "Review number 20400 of 25000\n",
      "Review number 20500 of 25000\n",
      "Review number 20600 of 25000\n",
      "Review number 20700 of 25000\n",
      "Review number 20800 of 25000\n",
      "Review number 20900 of 25000\n",
      "Review number 21000 of 25000\n",
      "Review number 21100 of 25000\n",
      "Review number 21200 of 25000\n",
      "Review number 21300 of 25000\n",
      "Review number 21400 of 25000\n",
      "Review number 21500 of 25000\n",
      "Review number 21600 of 25000\n",
      "Review number 21700 of 25000\n",
      "Review number 21800 of 25000\n",
      "Review number 21900 of 25000\n",
      "Review number 22000 of 25000\n",
      "Review number 22100 of 25000\n",
      "Review number 22200 of 25000\n",
      "Review number 22300 of 25000\n",
      "Review number 22400 of 25000\n",
      "Review number 22500 of 25000\n",
      "Review number 22600 of 25000\n",
      "Review number 22700 of 25000\n",
      "Review number 22800 of 25000\n",
      "Review number 22900 of 25000\n",
      "Review number 23000 of 25000\n",
      "Review number 23100 of 25000\n",
      "Review number 23200 of 25000\n",
      "Review number 23300 of 25000\n",
      "Review number 23400 of 25000\n",
      "Review number 23500 of 25000\n",
      "Review number 23600 of 25000\n",
      "Review number 23700 of 25000\n",
      "Review number 23800 of 25000\n",
      "Review number 23900 of 25000\n",
      "Review number 24000 of 25000\n",
      "Review number 24100 of 25000\n",
      "Review number 24200 of 25000\n",
      "Review number 24300 of 25000\n",
      "Review number 24400 of 25000\n",
      "Review number 24500 of 25000\n",
      "Review number 24600 of 25000\n",
      "Review number 24700 of 25000\n",
      "Review number 24800 of 25000\n",
      "Review number 24900 of 25000\n",
      "Review number 25000 of 25000\n"
     ]
    }
   ],
   "source": [
    "for i in range(0,num_reviews):\n",
    "    if((i+1)%100==0):\n",
    "        print ('Review number %d of %d')%(i+1,num_reviews)\n",
    "    clean_train_reviews.append(review_to_words(data['review'][i]))    "
   ]
  },
  {
   "cell_type": "markdown",
   "metadata": {},
   "source": [
    "# Creating Features From Bag of Words"
   ]
  },
  {
   "cell_type": "code",
   "execution_count": 19,
   "metadata": {
    "collapsed": true
   },
   "outputs": [],
   "source": [
    "from sklearn.feature_extraction.text import CountVectorizer"
   ]
  },
  {
   "cell_type": "code",
   "execution_count": 20,
   "metadata": {
    "collapsed": true
   },
   "outputs": [],
   "source": [
    "vectorizer=CountVectorizer(analyzer='word',\n",
    "                          tokenizer=None,\n",
    "                          preprocessor=None,\n",
    "                          stop_words=None,\n",
    "                          max_features=5000)"
   ]
  },
  {
   "cell_type": "code",
   "execution_count": 21,
   "metadata": {
    "collapsed": true
   },
   "outputs": [],
   "source": [
    "train_data_features=vectorizer.fit_transform(clean_train_reviews)"
   ]
  },
  {
   "cell_type": "markdown",
   "metadata": {},
   "source": [
    "# Random Forest"
   ]
  },
  {
   "cell_type": "code",
   "execution_count": 24,
   "metadata": {},
   "outputs": [],
   "source": [
    "from sklearn.ensemble import RandomForestClassifier\n",
    "forest=RandomForestClassifier(n_estimators=100)\n",
    "forest=forest.fit(train_data_features,data['sentiment'])"
   ]
  },
  {
   "cell_type": "markdown",
   "metadata": {},
   "source": [
    "# Creating a Submission"
   ]
  },
  {
   "cell_type": "code",
   "execution_count": 26,
   "metadata": {},
   "outputs": [],
   "source": [
    "test=pd.read_csv('testData.tsv',header=0,delimiter='\\t',quoting=3)"
   ]
  },
  {
   "cell_type": "code",
   "execution_count": 27,
   "metadata": {},
   "outputs": [
    {
     "name": "stdout",
     "output_type": "stream",
     "text": [
      "(25000, 2)\n"
     ]
    }
   ],
   "source": [
    "print test.shape"
   ]
  },
  {
   "cell_type": "code",
   "execution_count": 28,
   "metadata": {
    "collapsed": true
   },
   "outputs": [],
   "source": [
    "num_reviews=len(test['review'])"
   ]
  },
  {
   "cell_type": "code",
   "execution_count": 29,
   "metadata": {
    "collapsed": true
   },
   "outputs": [],
   "source": [
    "clean_test_reviews=[]"
   ]
  },
  {
   "cell_type": "code",
   "execution_count": 31,
   "metadata": {},
   "outputs": [
    {
     "name": "stdout",
     "output_type": "stream",
     "text": [
      "Review 100 of 25000\n",
      "Review 200 of 25000\n",
      "Review 300 of 25000\n",
      "Review 400 of 25000\n",
      "Review 500 of 25000\n",
      "Review 600 of 25000\n",
      "Review 700 of 25000\n",
      "Review 800 of 25000\n",
      "Review 900 of 25000\n",
      "Review 1000 of 25000\n",
      "Review 1100 of 25000\n",
      "Review 1200 of 25000\n",
      "Review 1300 of 25000\n",
      "Review 1400 of 25000\n",
      "Review 1500 of 25000\n",
      "Review 1600 of 25000\n",
      "Review 1700 of 25000\n",
      "Review 1800 of 25000\n",
      "Review 1900 of 25000\n",
      "Review 2000 of 25000\n",
      "Review 2100 of 25000\n",
      "Review 2200 of 25000\n",
      "Review 2300 of 25000\n",
      "Review 2400 of 25000\n",
      "Review 2500 of 25000\n",
      "Review 2600 of 25000\n",
      "Review 2700 of 25000\n",
      "Review 2800 of 25000\n",
      "Review 2900 of 25000\n",
      "Review 3000 of 25000\n",
      "Review 3100 of 25000\n",
      "Review 3200 of 25000\n",
      "Review 3300 of 25000\n",
      "Review 3400 of 25000\n",
      "Review 3500 of 25000\n",
      "Review 3600 of 25000\n",
      "Review 3700 of 25000\n",
      "Review 3800 of 25000\n",
      "Review 3900 of 25000\n",
      "Review 4000 of 25000\n",
      "Review 4100 of 25000\n",
      "Review 4200 of 25000\n",
      "Review 4300 of 25000\n",
      "Review 4400 of 25000\n",
      "Review 4500 of 25000\n",
      "Review 4600 of 25000\n",
      "Review 4700 of 25000\n",
      "Review 4800 of 25000\n",
      "Review 4900 of 25000\n",
      "Review 5000 of 25000\n",
      "Review 5100 of 25000\n",
      "Review 5200 of 25000\n",
      "Review 5300 of 25000\n",
      "Review 5400 of 25000\n",
      "Review 5500 of 25000\n",
      "Review 5600 of 25000\n",
      "Review 5700 of 25000\n",
      "Review 5800 of 25000\n",
      "Review 5900 of 25000\n",
      "Review 6000 of 25000\n",
      "Review 6100 of 25000\n",
      "Review 6200 of 25000\n",
      "Review 6300 of 25000\n",
      "Review 6400 of 25000\n",
      "Review 6500 of 25000\n",
      "Review 6600 of 25000\n",
      "Review 6700 of 25000\n",
      "Review 6800 of 25000\n",
      "Review 6900 of 25000\n",
      "Review 7000 of 25000\n",
      "Review 7100 of 25000\n",
      "Review 7200 of 25000\n",
      "Review 7300 of 25000\n",
      "Review 7400 of 25000\n",
      "Review 7500 of 25000\n",
      "Review 7600 of 25000\n",
      "Review 7700 of 25000\n",
      "Review 7800 of 25000\n",
      "Review 7900 of 25000\n",
      "Review 8000 of 25000\n",
      "Review 8100 of 25000\n",
      "Review 8200 of 25000\n",
      "Review 8300 of 25000\n",
      "Review 8400 of 25000\n",
      "Review 8500 of 25000\n",
      "Review 8600 of 25000\n",
      "Review 8700 of 25000\n",
      "Review 8800 of 25000\n",
      "Review 8900 of 25000\n",
      "Review 9000 of 25000\n",
      "Review 9100 of 25000\n",
      "Review 9200 of 25000\n",
      "Review 9300 of 25000\n",
      "Review 9400 of 25000\n",
      "Review 9500 of 25000\n",
      "Review 9600 of 25000\n",
      "Review 9700 of 25000\n",
      "Review 9800 of 25000\n",
      "Review 9900 of 25000\n",
      "Review 10000 of 25000\n",
      "Review 10100 of 25000\n",
      "Review 10200 of 25000\n",
      "Review 10300 of 25000\n",
      "Review 10400 of 25000\n",
      "Review 10500 of 25000\n",
      "Review 10600 of 25000\n",
      "Review 10700 of 25000\n",
      "Review 10800 of 25000\n",
      "Review 10900 of 25000\n",
      "Review 11000 of 25000\n",
      "Review 11100 of 25000\n",
      "Review 11200 of 25000\n",
      "Review 11300 of 25000\n",
      "Review 11400 of 25000\n",
      "Review 11500 of 25000\n",
      "Review 11600 of 25000\n",
      "Review 11700 of 25000\n",
      "Review 11800 of 25000\n",
      "Review 11900 of 25000\n",
      "Review 12000 of 25000\n",
      "Review 12100 of 25000\n",
      "Review 12200 of 25000\n",
      "Review 12300 of 25000\n",
      "Review 12400 of 25000\n",
      "Review 12500 of 25000\n",
      "Review 12600 of 25000\n",
      "Review 12700 of 25000\n",
      "Review 12800 of 25000\n",
      "Review 12900 of 25000\n",
      "Review 13000 of 25000\n",
      "Review 13100 of 25000\n",
      "Review 13200 of 25000\n",
      "Review 13300 of 25000\n",
      "Review 13400 of 25000\n",
      "Review 13500 of 25000\n",
      "Review 13600 of 25000\n",
      "Review 13700 of 25000\n",
      "Review 13800 of 25000\n",
      "Review 13900 of 25000\n",
      "Review 14000 of 25000\n",
      "Review 14100 of 25000\n",
      "Review 14200 of 25000\n",
      "Review 14300 of 25000\n",
      "Review 14400 of 25000\n",
      "Review 14500 of 25000\n",
      "Review 14600 of 25000\n",
      "Review 14700 of 25000\n",
      "Review 14800 of 25000\n",
      "Review 14900 of 25000\n",
      "Review 15000 of 25000\n",
      "Review 15100 of 25000\n",
      "Review 15200 of 25000\n",
      "Review 15300 of 25000\n",
      "Review 15400 of 25000\n",
      "Review 15500 of 25000\n",
      "Review 15600 of 25000\n",
      "Review 15700 of 25000\n",
      "Review 15800 of 25000\n",
      "Review 15900 of 25000\n",
      "Review 16000 of 25000\n",
      "Review 16100 of 25000\n",
      "Review 16200 of 25000\n",
      "Review 16300 of 25000\n",
      "Review 16400 of 25000\n",
      "Review 16500 of 25000\n",
      "Review 16600 of 25000\n",
      "Review 16700 of 25000\n",
      "Review 16800 of 25000\n",
      "Review 16900 of 25000\n",
      "Review 17000 of 25000\n",
      "Review 17100 of 25000\n",
      "Review 17200 of 25000\n",
      "Review 17300 of 25000\n",
      "Review 17400 of 25000\n",
      "Review 17500 of 25000\n",
      "Review 17600 of 25000\n",
      "Review 17700 of 25000\n",
      "Review 17800 of 25000\n",
      "Review 17900 of 25000\n",
      "Review 18000 of 25000\n",
      "Review 18100 of 25000\n",
      "Review 18200 of 25000\n",
      "Review 18300 of 25000\n",
      "Review 18400 of 25000\n",
      "Review 18500 of 25000\n",
      "Review 18600 of 25000\n",
      "Review 18700 of 25000\n",
      "Review 18800 of 25000\n",
      "Review 18900 of 25000\n",
      "Review 19000 of 25000\n",
      "Review 19100 of 25000\n",
      "Review 19200 of 25000\n",
      "Review 19300 of 25000\n",
      "Review 19400 of 25000\n",
      "Review 19500 of 25000\n",
      "Review 19600 of 25000\n",
      "Review 19700 of 25000\n",
      "Review 19800 of 25000\n",
      "Review 19900 of 25000\n",
      "Review 20000 of 25000\n",
      "Review 20100 of 25000\n",
      "Review 20200 of 25000\n",
      "Review 20300 of 25000\n",
      "Review 20400 of 25000\n",
      "Review 20500 of 25000\n",
      "Review 20600 of 25000\n",
      "Review 20700 of 25000\n",
      "Review 20800 of 25000\n",
      "Review 20900 of 25000\n",
      "Review 21000 of 25000\n",
      "Review 21100 of 25000\n",
      "Review 21200 of 25000\n",
      "Review 21300 of 25000\n",
      "Review 21400 of 25000\n",
      "Review 21500 of 25000\n",
      "Review 21600 of 25000\n",
      "Review 21700 of 25000\n",
      "Review 21800 of 25000\n",
      "Review 21900 of 25000\n",
      "Review 22000 of 25000\n",
      "Review 22100 of 25000\n",
      "Review 22200 of 25000\n",
      "Review 22300 of 25000\n",
      "Review 22400 of 25000\n",
      "Review 22500 of 25000\n",
      "Review 22600 of 25000\n",
      "Review 22700 of 25000\n",
      "Review 22800 of 25000\n",
      "Review 22900 of 25000\n",
      "Review 23000 of 25000\n",
      "Review 23100 of 25000\n",
      "Review 23200 of 25000\n",
      "Review 23300 of 25000\n",
      "Review 23400 of 25000\n",
      "Review 23500 of 25000\n",
      "Review 23600 of 25000\n",
      "Review 23700 of 25000\n",
      "Review 23800 of 25000\n",
      "Review 23900 of 25000\n",
      "Review 24000 of 25000\n",
      "Review 24100 of 25000\n",
      "Review 24200 of 25000\n",
      "Review 24300 of 25000\n",
      "Review 24400 of 25000\n",
      "Review 24500 of 25000\n",
      "Review 24600 of 25000\n",
      "Review 24700 of 25000\n",
      "Review 24800 of 25000\n",
      "Review 24900 of 25000\n",
      "Review 25000 of 25000\n"
     ]
    }
   ],
   "source": [
    "for i in range(0,num_reviews):\n",
    "    if((i+1)%100==0):\n",
    "        print \"Review %d of %d\"%((i+1),num_reviews)\n",
    "    clean_test_reviews.append(review_to_words(test['review'][i]))    "
   ]
  },
  {
   "cell_type": "code",
   "execution_count": 40,
   "metadata": {},
   "outputs": [],
   "source": [
    "test_data_features=vectorizer.transform(clean_test_reviews)"
   ]
  },
  {
   "cell_type": "code",
   "execution_count": 41,
   "metadata": {
    "collapsed": true
   },
   "outputs": [],
   "source": [
    "result=forest.predict(test_data_features)"
   ]
  },
  {
   "cell_type": "code",
   "execution_count": 42,
   "metadata": {
    "collapsed": true
   },
   "outputs": [],
   "source": [
    "op=pd.DataFrame(data={'id':test['id'],'sentiment':result})"
   ]
  },
  {
   "cell_type": "code",
   "execution_count": 43,
   "metadata": {
    "collapsed": true
   },
   "outputs": [],
   "source": [
    "op.to_csv('Bag_of_words1.csv',index=False,quoting=3)"
   ]
  },
  {
   "cell_type": "code",
   "execution_count": 44,
   "metadata": {},
   "outputs": [
    {
     "data": {
      "text/plain": [
       "u'/home/abhi/Desktop/NLTK'"
      ]
     },
     "execution_count": 44,
     "metadata": {},
     "output_type": "execute_result"
    }
   ],
   "source": [
    "pwd"
   ]
  }
 ],
 "metadata": {
  "kernelspec": {
   "display_name": "Python 2",
   "language": "python",
   "name": "python2"
  },
  "language_info": {
   "codemirror_mode": {
    "name": "ipython",
    "version": 2
   },
   "file_extension": ".py",
   "mimetype": "text/x-python",
   "name": "python",
   "nbconvert_exporter": "python",
   "pygments_lexer": "ipython2",
   "version": "2.7.13"
  }
 },
 "nbformat": 4,
 "nbformat_minor": 2
}
